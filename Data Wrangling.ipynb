{
  "nbformat": 4,
  "nbformat_minor": 0,
  "metadata": {
    "colab": {
      "provenance": []
    },
    "kernelspec": {
      "name": "python3",
      "display_name": "Python 3"
    },
    "language_info": {
      "name": "python"
    }
  },
  "cells": [
    {
      "cell_type": "markdown",
      "source": [
        "# 🛠 Data Wrangling\n",
        "\n",
        "Clean, standardize, and enrich SpaceX launch data for downstream analysis.\n",
        ".\n",
        "\n"
      ],
      "metadata": {
        "id": "TKs9u1RXWzVu"
      }
    },
    {
      "cell_type": "code",
      "source": [
        "# 1. Imports\n",
        "import pandas as pd\n",
        "import numpy as np\n",
        "from sklearn.preprocessing import MinMaxScaler\n",
        "from IPython.display import display\n",
        "import os\n",
        "\n"
      ],
      "metadata": {
        "id": "kZk6I3nZKeYD"
      },
      "execution_count": null,
      "outputs": []
    },
    {
      "cell_type": "code",
      "source": [
        "# Verify that both files exist and are non-empty\n",
        "\n",
        "print(\"Current files:\", os.listdir())\n",
        "if os.path.exists(\"spacex_launch_site_scrape.csv\"):\n",
        "    size = os.path.getsize(\"spacex_launch_site_scrape.csv\")\n",
        "    print(f\"spacex_launch_site_scrape.csv size: {size} bytes\")\n",
        "else:\n",
        "    print(\"spacex_launch_site_scrape.csv not found!\")\n"
      ],
      "metadata": {
        "id": "y-Hc0t8_LDo0"
      },
      "execution_count": null,
      "outputs": []
    },
    {
      "cell_type": "code",
      "source": [
        "# 2. Load raw datasets\n",
        "df_launch = pd.read_csv(\"spacex_launches_sample.csv\")\n",
        "df_scrape = pd.read_csv(\"spacex_launch_site_scrape.csv\")\n",
        "\n",
        "print(\"Launch rows:\", len(df_launch))\n",
        "print(\"Scrape rows:\", len(df_scrape))\n"
      ],
      "metadata": {
        "id": "AeI13i_qKiwh"
      },
      "execution_count": null,
      "outputs": []
    },
    {
      "cell_type": "code",
      "source": [
        "# 3. Handle missing values\n",
        "df_launch.dropna(subset=['id'], inplace=True)\n",
        "numeric_cols = df_launch.select_dtypes(include='number').columns\n",
        "df_launch[numeric_cols] = df_launch[numeric_cols].fillna(0)\n",
        "\n",
        "print(\"After missing-value handling:\", df_launch.shape)\n"
      ],
      "metadata": {
        "id": "Kk1RBKgCKk09"
      },
      "execution_count": null,
      "outputs": []
    },
    {
      "cell_type": "code",
      "source": [
        "# 4. Type conversion & unit standardization\n",
        "df_launch['date_utc'] = pd.to_datetime(df_launch['date_utc'])\n",
        "if 'payload_mass_kg' in df_launch.columns:\n",
        "    df_launch['payload_mass_lb'] = df_launch['payload_mass_kg'] * 2.20462\n",
        "\n",
        "print(\"Date column type:\", df_launch['date_utc'].dtype)\n"
      ],
      "metadata": {
        "id": "zOF6JPojKm_d"
      },
      "execution_count": null,
      "outputs": []
    },
    {
      "cell_type": "code",
      "source": [
        "# 5. Merge scraped site info\n",
        "df = df_launch.merge(df_scrape, on='name', how='left')\n",
        "print(\"Merged rows:\", df.shape[0])\n"
      ],
      "metadata": {
        "id": "fmILZPtLKobP"
      },
      "execution_count": null,
      "outputs": []
    },
    {
      "cell_type": "code",
      "source": [
        "# 6. Feature engineering\n",
        "df['payload_ratio'] = (\n",
        "    df['payload_mass_kg'] / df['mass_returned']\n",
        "    if 'mass_returned' in df.columns else np.nan\n",
        ")\n",
        "df['site_code'] = df['site'].astype('category').cat.codes\n",
        "\n",
        "print(\"Added features: payload_ratio, site_code\")\n"
      ],
      "metadata": {
        "id": "2Du2Qrz0Kp-a"
      },
      "execution_count": null,
      "outputs": []
    },
    {
      "cell_type": "code",
      "source": [
        "# 7. Scaling & encoding\n",
        "scaler = MinMaxScaler()\n",
        "df[['payload_mass_kg_scaled']] = scaler.fit_transform(df[['payload_mass_kg']])\n",
        "df = pd.get_dummies(df, columns=['rocket_name'], drop_first=True)\n",
        "\n",
        "print(\"Scaled & one-hot encoded rocket_name\")\n"
      ],
      "metadata": {
        "id": "liEmmPE-Kr9f"
      },
      "execution_count": null,
      "outputs": []
    },
    {
      "cell_type": "code",
      "source": [
        "# 8. Preview cleaned & enriched data\n",
        "print(\"Final columns:\", len(df.columns))\n",
        "display(df.head())\n"
      ],
      "metadata": {
        "id": "y6JHK7nZKtI9"
      },
      "execution_count": null,
      "outputs": []
    },
    {
      "cell_type": "code",
      "source": [
        "# 9. Save wrangled data\n",
        "df.to_parquet(\"spacex_launches_wrangled.parquet\", index=False)\n",
        "print(\"Saved spacex_launches_wrangled.parquet\")\n"
      ],
      "metadata": {
        "id": "dwcVZuMXKuUe"
      },
      "execution_count": null,
      "outputs": []
    },
    {
      "cell_type": "code",
      "source": [
        "# 9. Save wrangled data\n",
        "df.to_parquet(\"spacex_launches_wrangled.parquet\", index=False)\n",
        "print(\"Saved spacex_launches_wrangled.parquet\")\n"
      ],
      "metadata": {
        "id": "PjoxXHvqKv69"
      },
      "execution_count": null,
      "outputs": []
    },
    {
      "cell_type": "code",
      "source": [],
      "metadata": {
        "id": "FHl2gOJrKxW4"
      },
      "execution_count": null,
      "outputs": []
    }
  ]
}