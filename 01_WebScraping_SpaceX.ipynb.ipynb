{
  "nbformat": 4,
  "nbformat_minor": 0,
  "metadata": {
    "colab": {
      "provenance": []
    },
    "kernelspec": {
      "name": "python3",
      "display_name": "Python 3"
    },
    "language_info": {
      "name": "python"
    }
  },
  "cells": [
    {
      "cell_type": "markdown",
      "source": [
        "# SpaceX Launch Data Web Scraping\n",
        "\n",
        "This notebook scrapes supplemental launch info (e.g. launch site names & locations)  \n",
        "from the SpaceX website and transforms it into a tabular dataset.\n",
        "\n"
      ],
      "metadata": {
        "id": "TKs9u1RXWzVu"
      }
    },
    {
      "cell_type": "code",
      "source": [
        "# Imports\n",
        "import requests\n",
        "from bs4 import BeautifulSoup\n",
        "import pandas as pd\n",
        "from IPython.display import display\n",
        "\n",
        "\n"
      ],
      "metadata": {
        "id": "8ojt5jXZXAp_"
      },
      "execution_count": 22,
      "outputs": []
    },
    {
      "cell_type": "code",
      "source": [
        "# Target URL\n",
        "URL = \"https://www.spacex.com/launches/\"  # adjust if a specific page\n",
        "headers = {\"User-Agent\": \"Mozilla/5.0\"}\n"
      ],
      "metadata": {
        "id": "p32a_h7FXEYH"
      },
      "execution_count": 23,
      "outputs": []
    },
    {
      "cell_type": "code",
      "source": [
        "# Fetch page\n",
        "resp = requests.get(URL, headers=headers)\n",
        "resp.raise_for_status()  # error if bad response\n",
        "html = resp.text"
      ],
      "metadata": {
        "id": "IsVPm6_iXQtm"
      },
      "execution_count": 24,
      "outputs": []
    },
    {
      "cell_type": "code",
      "source": [
        "# Parse with BeautifulSoup\n",
        "soup = BeautifulSoup(html, \"html.parser\")\n",
        "\n",
        " # find all launch cards\n",
        "cards = soup.select(\".launch-list__item\")\n",
        "print(\"Found\", len(cards), \"launch cards\")   # ← you should see a number here\n"
      ],
      "metadata": {
        "colab": {
          "base_uri": "https://localhost:8080/"
        },
        "id": "tc6mKlj3X1pM",
        "outputId": "cce60d86-f1b5-48cd-bc30-9f5370111f0e"
      },
      "execution_count": 25,
      "outputs": [
        {
          "output_type": "stream",
          "name": "stdout",
          "text": [
            "Found 0 launch cards\n"
          ]
        }
      ]
    },
    {
      "cell_type": "code",
      "source": [
        "# Extract data into list of dicts\n",
        "data = []\n",
        "for c in cards:\n",
        "    name = c.select_one(\".launch-list__title\").get_text(strip=True)\n",
        "    date = c.select_one(\".launch-list__date\").get_text(strip=True)\n",
        "    site = c.select_one(\".launch-list__site\").get_text(strip=True)\n",
        "    data.append({\"name\": name, \"date\": date, \"site\": site})\n",
        "\n",
        "# Create DataFrame\n",
        "df_scrape = pd.DataFrame(data)"
      ],
      "metadata": {
        "id": "3OXNKMIhbQqS"
      },
      "execution_count": 26,
      "outputs": []
    },
    {
      "cell_type": "code",
      "source": [
        "# Preview results\n",
        "print(\"Rows scraped:\", len(df_scrape))\n",
        "display(df_scrape.head())\n"
      ],
      "metadata": {
        "colab": {
          "base_uri": "https://localhost:8080/",
          "height": 297
        },
        "id": "dYqXaukObTAO",
        "outputId": "9a974920-aec3-41e3-e20b-30166bcd0f77"
      },
      "execution_count": 27,
      "outputs": [
        {
          "output_type": "stream",
          "name": "stdout",
          "text": [
            "Rows scraped: 0\n"
          ]
        },
        {
          "output_type": "display_data",
          "data": {
            "text/plain": [
              "Empty DataFrame\n",
              "Columns: []\n",
              "Index: []"
            ],
            "text/html": [
              "\n",
              "  <div id=\"df-0ccd884d-98e0-40b3-b756-df36dca018e5\" class=\"colab-df-container\">\n",
              "    <div>\n",
              "<style scoped>\n",
              "    .dataframe tbody tr th:only-of-type {\n",
              "        vertical-align: middle;\n",
              "    }\n",
              "\n",
              "    .dataframe tbody tr th {\n",
              "        vertical-align: top;\n",
              "    }\n",
              "\n",
              "    .dataframe thead th {\n",
              "        text-align: right;\n",
              "    }\n",
              "</style>\n",
              "<table border=\"1\" class=\"dataframe\">\n",
              "  <thead>\n",
              "    <tr style=\"text-align: right;\">\n",
              "      <th></th>\n",
              "    </tr>\n",
              "  </thead>\n",
              "  <tbody>\n",
              "  </tbody>\n",
              "</table>\n",
              "</div>\n",
              "    <div class=\"colab-df-buttons\">\n",
              "\n",
              "  <div class=\"colab-df-container\">\n",
              "    <button class=\"colab-df-convert\" onclick=\"convertToInteractive('df-0ccd884d-98e0-40b3-b756-df36dca018e5')\"\n",
              "            title=\"Convert this dataframe to an interactive table.\"\n",
              "            style=\"display:none;\">\n",
              "\n",
              "  <svg xmlns=\"http://www.w3.org/2000/svg\" height=\"24px\" viewBox=\"0 -960 960 960\">\n",
              "    <path d=\"M120-120v-720h720v720H120Zm60-500h600v-160H180v160Zm220 220h160v-160H400v160Zm0 220h160v-160H400v160ZM180-400h160v-160H180v160Zm440 0h160v-160H620v160ZM180-180h160v-160H180v160Zm440 0h160v-160H620v160Z\"/>\n",
              "  </svg>\n",
              "    </button>\n",
              "\n",
              "  <style>\n",
              "    .colab-df-container {\n",
              "      display:flex;\n",
              "      gap: 12px;\n",
              "    }\n",
              "\n",
              "    .colab-df-convert {\n",
              "      background-color: #E8F0FE;\n",
              "      border: none;\n",
              "      border-radius: 50%;\n",
              "      cursor: pointer;\n",
              "      display: none;\n",
              "      fill: #1967D2;\n",
              "      height: 32px;\n",
              "      padding: 0 0 0 0;\n",
              "      width: 32px;\n",
              "    }\n",
              "\n",
              "    .colab-df-convert:hover {\n",
              "      background-color: #E2EBFA;\n",
              "      box-shadow: 0px 1px 2px rgba(60, 64, 67, 0.3), 0px 1px 3px 1px rgba(60, 64, 67, 0.15);\n",
              "      fill: #174EA6;\n",
              "    }\n",
              "\n",
              "    .colab-df-buttons div {\n",
              "      margin-bottom: 4px;\n",
              "    }\n",
              "\n",
              "    [theme=dark] .colab-df-convert {\n",
              "      background-color: #3B4455;\n",
              "      fill: #D2E3FC;\n",
              "    }\n",
              "\n",
              "    [theme=dark] .colab-df-convert:hover {\n",
              "      background-color: #434B5C;\n",
              "      box-shadow: 0px 1px 3px 1px rgba(0, 0, 0, 0.15);\n",
              "      filter: drop-shadow(0px 1px 2px rgba(0, 0, 0, 0.3));\n",
              "      fill: #FFFFFF;\n",
              "    }\n",
              "  </style>\n",
              "\n",
              "    <script>\n",
              "      const buttonEl =\n",
              "        document.querySelector('#df-0ccd884d-98e0-40b3-b756-df36dca018e5 button.colab-df-convert');\n",
              "      buttonEl.style.display =\n",
              "        google.colab.kernel.accessAllowed ? 'block' : 'none';\n",
              "\n",
              "      async function convertToInteractive(key) {\n",
              "        const element = document.querySelector('#df-0ccd884d-98e0-40b3-b756-df36dca018e5');\n",
              "        const dataTable =\n",
              "          await google.colab.kernel.invokeFunction('convertToInteractive',\n",
              "                                                    [key], {});\n",
              "        if (!dataTable) return;\n",
              "\n",
              "        const docLinkHtml = 'Like what you see? Visit the ' +\n",
              "          '<a target=\"_blank\" href=https://colab.research.google.com/notebooks/data_table.ipynb>data table notebook</a>'\n",
              "          + ' to learn more about interactive tables.';\n",
              "        element.innerHTML = '';\n",
              "        dataTable['output_type'] = 'display_data';\n",
              "        await google.colab.output.renderOutput(dataTable, element);\n",
              "        const docLink = document.createElement('div');\n",
              "        docLink.innerHTML = docLinkHtml;\n",
              "        element.appendChild(docLink);\n",
              "      }\n",
              "    </script>\n",
              "  </div>\n",
              "\n",
              "\n",
              "    </div>\n",
              "  </div>\n"
            ],
            "application/vnd.google.colaboratory.intrinsic+json": {
              "type": "dataframe",
              "summary": "{\n  \"name\": \"display(df_scrape\",\n  \"rows\": 0,\n  \"fields\": []\n}"
            }
          },
          "metadata": {}
        },
        {
          "output_type": "display_data",
          "data": {
            "text/plain": [
              "<google.colab._quickchart_helpers.SectionTitle at 0x7a7a06462f50>"
            ],
            "text/html": [
              "<h4 class=\"colab-quickchart-section-title\">Time series</h4>\n",
              "<style>\n",
              "  .colab-quickchart-section-title {\n",
              "      clear: both;\n",
              "  }\n",
              "</style>"
            ]
          },
          "metadata": {}
        },
        {
          "output_type": "display_data",
          "data": {
            "text/plain": [
              "from matplotlib import pyplot as plt\n",
              "import seaborn as sns\n",
              "def _plot_series(series, series_name, series_index=0):\n",
              "  palette = list(sns.palettes.mpl_palette('Dark2'))\n",
              "  counted = (series['index']\n",
              "                .value_counts()\n",
              "              .reset_index(name='counts')\n",
              "              .rename({'index': 'index'}, axis=1)\n",
              "              .sort_values('index', ascending=True))\n",
              "  xs = counted['index']\n",
              "  ys = counted['counts']\n",
              "  plt.plot(xs, ys, label=series_name, color=palette[series_index % len(palette)])\n",
              "\n",
              "fig, ax = plt.subplots(figsize=(10, 5.2), layout='constrained')\n",
              "df_sorted = _df_1.sort_values('index', ascending=True)\n",
              "_plot_series(df_sorted, '')\n",
              "sns.despine(fig=fig, ax=ax)\n",
              "plt.xlabel('index')\n",
              "_ = plt.ylabel('count()')"
            ],
            "text/html": [
              "      <div class=\"colab-quickchart-chart-with-code\" id=\"chart-ba78a381-ba9d-4750-9473-0a1a6232f082\">\n",
              "        <img style=\"width: 180px;\" src=\"data:image/png;base64,iVBORw0KGgoAAAANSUhEUgAAA/MAAAITCAYAAABLz0yVAAAAOnRFWHRTb2Z0d2FyZQBNYXRwbG90\n",
              "bGliIHZlcnNpb24zLjEwLjAsIGh0dHBzOi8vbWF0cGxvdGxpYi5vcmcvlHJYcgAAAAlwSFlzAAAP\n",
              "YQAAD2EBqD+naQAAI4RJREFUeJzt3X+slvV9//HX8ZzkWDsFDCgkcKBwOLb1F4IQfnQz2jQzxl+T\n",
              "tboNF1L5oVuMGd1EMtnC6sRNpVpp4sEZVkfCzMBasiZL1G6OVjZkq+3EWTiUwzm2IF2tHNYp5XCu\n",
              "7x+m59tTfniO3pzjBx+P5Eq57+tzzv2+kk9OfPa+z3XqqqqqAgAAABTjtKEeAAAAABgYMQ8AAACF\n",
              "EfMAAABQGDEPAAAAhRHzAAAAUBgxDwAAAIUR8wAAAFAYMQ8AAACFEfNJHn744aEeAQAAAPpNzCfZ\n",
              "s2fPUI8AAAAA/SbmAQAAoDBiHgAAAAoj5gEAAKAwYh4AAAAKI+YBAACgMGIeAAAACiPmAQAAoDBi\n",
              "HgAAAAoj5gEAAKAwYh4AAAAKI+YBAACgMGIeAAAACiPmAQAAoDBiHgAAAAoj5gEAAKAwYh4AAAAK\n",
              "I+YBAACgMGIeAAAACiPmAQAAoDBiHgAAAAoj5gEAAKAwYh4AAAAKI+YBAACgMGIeAAAACiPmAQAA\n",
              "oDBiHgAAAAoj5gEAAKAwYh4AAAAKI+YBAACgMGIeAAAACiPmAQAAoDBiHgAAAAoj5gEAAKAwYh4A\n",
              "AAAKI+YBAACgMGIeAAAACiPmAQAAoDBiHgAAAAoj5gEAAKAwYh4AAAAKI+YBAACgMGIeAAAACiPm\n",
              "AQAAoDBiHgAAAAoj5gEAAKAwYh4AAAAKI+YBAACgMGIeAAAACiPmAQAAoDBiHgAAAAoj5gEAAKAw\n",
              "Yh4AAAAKI+YBAACgMGIeAAAACiPmAQAAoDBiHgAAAAoj5gEAAKAwYh4AAAAKI+YBAACgMGIeAAAA\n",
              "CiPmAQAAoDAfiJjfuXNnZs+enZaWlkyfPj3bt28/5rrHH388kydPzqRJk7Jw4cIcPny4z/mqqnLF\n",
              "FVdk+PDhgzA1AAAADI0PRMwvXrw4ixYtyo4dO7J06dLMnz//qDW7d+/O8uXLs3nz5rS1teX111/P\n",
              "mjVr+qz50pe+lEmTJg3S1AAAADA0hjzm9+/fn23btmXevHlJkrlz56azszNtbW191m3YsCHXXntt\n",
              "Ro8enbq6utx6661Zv3597/nt27fn6aefzl133XXC1zt06FC6urr6HEeOHKn9hQEAAMBJMuQx39nZ\n",
              "mTFjxqShoSFJUldXl6ampnR0dPRZ19HRkfHjx/c+njBhQu+aw4cPZ+HChWltbU19ff0JX2/lypUZ\n",
              "NmxYn2Pr1q01vioAAAA4eYY85mthxYoVueGGG/KJT3ziXdcuW7YsBw4c6HPMmDFjEKYEAACA2mgY\n",
              "6gHGjRuXvXv3pru7Ow0NDamqKh0dHWlqauqzrqmpKbt27ep93N7e3rvm+eefT0dHR1avXp3u7u50\n",
              "dXVlwoQJefHFFzNq1Kg+36exsTGNjY19nnu3d/MBAADgg2TI35k/55xzMnXq1Kxbty5JsnHjxowd\n",
              "OzbNzc191s2dOzebNm3Kvn37UlVVHn300dx0001Jks2bN2fPnj1pb2/Pt771rZx11llpb28/KuQB\n",
              "AADgVDDkMZ8kra2taW1tTUtLS+67776sXbs2SbJgwYJs2rQpSTJx4sSsWLEic+bMSXNzc0aNGpXF\n",
              "ixcP5dgAAAAwJOqqqqqGeoihtmTJkqxatWqoxwAAAIB++UC8Mw8AAAD0n5gHAACAwoh5AAAAKIyY\n",
              "BwAAgMKIeQAAACiMmAcAAIDCiHkAAAAojJgHAACAwoh5AAAAKIyYBwAAgMKIeQAAACiMmAcAAIDC\n",
              "iHkAAAAojJgHAACAwoh5AAAAKIyYBwAAgMKIeQAAACiMmAcAAIDCiHkAAAAojJgHAACAwoh5AAAA\n",
              "KIyYBwAAgMKIeQAAACiMmAcAAIDCiHkAAAAojJgHAACAwoh5AAAAKIyYBwAAgMKIeQAAACiMmAcA\n",
              "AIDCiHkAAAAojJgHAACAwoh5AAAAKIyYBwAAgMKIeQAAACiMmAcAAIDCiHkAAAAojJgHAACAwoh5\n",
              "AAAAKIyYBwAAgMKIeQAAACiMmAcAAIDCiHkAAAAojJgHAACAwoh5AAAAKIyYBwAAgMKIeQAAACiM\n",
              "mAcAAIDCiHkAAAAojJgHAACAwoh5AAAAKIyYBwAAgMKIeQAAACiMmAcAAIDCiHkAAAAojJgHAACA\n",
              "woh5AAAAKIyYBwAAgMKIeQAAACiMmAcAAIDCiHkAAAAojJgHAACAwoh5AAAAKIyYBwAAgMKIeQAA\n",
              "ACiMmAcAAIDCiHkAAAAojJgHAACAwoh5AAAAKIyYBwAAgMKIeQAAACiMmAcAAIDCiHkAAAAojJgH\n",
              "AACAwoh5AAAAKIyYBwAAgMKIeQAAACiMmAcAAIDCfCBifufOnZk9e3ZaWloyffr0bN++/ZjrHn/8\n",
              "8UyePDmTJk3KwoULc/jw4STJN7/5zcyYMSOf/OQnc/755+fOO+9MT0/PYF4CAAAADJoPRMwvXrw4\n",
              "ixYtyo4dO7J06dLMnz//qDW7d+/O8uXLs3nz5rS1teX111/PmjVrkiQjRozI3//93+eVV17Jf/zH\n",
              "f+SFF17IE088MchXAQAAAINjyGN+//792bZtW+bNm5ckmTt3bjo7O9PW1tZn3YYNG3Lttddm9OjR\n",
              "qaury6233pr169cnSS655JJMnDgxSXL66adnypQpaW9vP+brHTp0KF1dXX2OI0eOnLwLBAAAgBob\n",
              "8pjv7OzMmDFj0tDQkCSpq6tLU1NTOjo6+qzr6OjI+PHjex9PmDDhqDVJsm/fvmzYsCFXX331MV9v\n",
              "5cqVGTZsWJ9j69atNbwiAAAAOLmGPOZrqaurK9dcc03uvPPOXHrppcdcs2zZshw4cKDPMWPGjEGe\n",
              "FAAAAN67hqEeYNy4cdm7d2+6u7vT0NCQqqrS0dGRpqamPuuampqya9eu3sft7e191hw8eDBXXnll\n",
              "rrvuuixZsuS4r9fY2JjGxsY+z9XX19foagAAAODkG/J35s8555xMnTo169atS5Js3LgxY8eOTXNz\n",
              "c591c+fOzaZNm7Jv375UVZVHH300N910U5Lkf//3f3PllVfmyiuvzN133z3o1wAAAACDachjPkla\n",
              "W1vT2tqalpaW3HfffVm7dm2SZMGCBdm0aVOSZOLEiVmxYkXmzJmT5ubmjBo1KosXL06SPPzww9m6\n",
              "dWueeuqpTJkyJVOmTMlf/uVfDtn1AAAAwMlUV1VVNdRDDLUlS5Zk1apVQz0GAAAA9MsH4p15AAAA\n",
              "oP/EPAAAABRGzAMAAEBhxDwAAAAURswDAABAYcQ8AAAAFEbMAwAAQGHEPAAAABRGzAMAAEBhxDwA\n",
              "AAAURswDAABAYcQ8AAAAFEbMAwAAQGHEPAAAABRGzAMAAEBhxDwAAAAURswDAABAYcQ8AAAAFEbM\n",
              "AwAAQGHEPAAAABRGzAMAAEBhxDwAAAAURswDAABAYcQ8AAAAFEbMAwAAQGHEPAAAABRGzAMAAEBh\n",
              "xDwAAAAURswDAABAYcQ8AAAAFEbMAwAAQGHEPAAAABRGzAMAAEBhxDwAAAAURswDAABAYcQ8AAAA\n",
              "FEbMAwAAQGHEPAAAABRGzAMAAEBhxDwAAAAURswDAABAYcQ8AAAAFEbMAwAAQGHEPAAAABRGzAMA\n",
              "AEBhxDwAAAAURswDAABAYcQ8AAAAFEbMAwAAQGHEPAAAABRGzAMAAEBhxDwAAAAURswDAABAYcQ8\n",
              "AAAAFEbMAwAAQGHEPAAAABRGzAMAAEBhxDwAAAAURswDAABAYcQ8AAAAFEbMAwAAQGHEPAAAABRG\n",
              "zAMAAEBhxDwAAAAUpuG9fNErr7yS1157LR/5yEdy4YUXZvjw4TUeCwAAADiefsf8wYMH88ADD+Sx\n",
              "xx7LGWeckXPPPTdvv/12du3alRkzZmTp0qX59Kc/fTJnBQAAADKAmL/88svz+7//+/nOd76Tc889\n",
              "t/f5np6ebN68OY8++mja2tqyePHikzIoAAAA8I5+x/y3v/3tNDY2HvX8aaedlssuuyyXXXZZDh06\n",
              "VNPhAAAAgKP1+wZ4xwr597IGAAAAeH/6HfNXX311XnjhhWOee/PNN/Pggw+mtbW1ZoMBAAAAx9bv\n",
              "j9nfe++9WbZsWV555ZVMnz699wZ4r776an74wx/mD//wD/P5z3/+ZM4KAAAAZAAxf9FFF+Ub3/hG\n",
              "Ojs78/zzz+e1117LGWeckd/7vd/Lpz71qTQ0vKe/cgcAAAAM0IAL/Kc//WnmzZvX57nvfe97ueii\n",
              "i2o2FAAAAHB8/f6d+V+YP39+v54DAAAATo5+vzO/f//+7Nu3L2+99Vb+67/+K1VVJUkOHDiQn/3s\n",
              "ZydtQAAAAKCvfsf8+vXr89BDD+VHP/pRrr322t7nhw0bljvvvPOkDAcAAAAcrd8xf8cdd+SOO+7I\n",
              "F7/4xSxfvvxkzgQAAACcwIBvgLd8+fL09PRk37596e7u7n2+qamppoMBAAAAxzbgG+B99atfzfDh\n",
              "w3PhhRdm2rRpmTZtWi699NL3NcTOnTsze/bstLS0ZPr06dm+ffsx1z3++OOZPHlyJk2alIULF+bw\n",
              "4cP9OgcAAACnkgHH/F/8xV/kxRdfzE9+8pP8+Mc/zo9//OPs37//fQ2xePHiLFq0KDt27MjSpUuP\n",
              "eXf83bt3Z/ny5dm8eXPa2try+uuvZ82aNe96DgAAAE41A475kSNH5rzzzqvZAPv378+2bdt6/3b9\n",
              "3Llz09nZmba2tj7rNmzYkGuvvTajR49OXV1dbr311qxfv/5dzwEAAMCpZsAxf/311+ehhx7K/v37\n",
              "09XV1Xu8V52dnRkzZkwaGt759f26uro0NTWlo6Ojz7qOjo6MHz++9/GECRN615zo3K86dOhQn7m7\n",
              "urpy5MiR9zw/AAAADLYBx/yf/umfZsmSJRk9enRGjBiR4cOHZ8SIESdjtpNi5cqVGTZsWJ9j69at\n",
              "Qz0WAAAA9NuAY76np6f3OHLkSO//vlfjxo3L3r17e++MX1VVOjo6jro7flNTU/bs2dP7uL29vXfN\n",
              "ic79qmXLluXAgQN9jhkzZrzn+QEAAGCwDTjma+2cc87J1KlTs27duiTJxo0bM3bs2DQ3N/dZN3fu\n",
              "3GzatCn79u1LVVV59NFHc9NNN73ruV/V2NiYs846q89RX19/ci8SAAAAamjAMX/aaaelvr7+qOP9\n",
              "aG1tTWtra1paWnLfffdl7dq1SZIFCxZk06ZNSZKJEydmxYoVmTNnTpqbmzNq1KgsXrz4Xc8BAADA\n",
              "qaauqqpqIF/ws5/9rPffb731Vp544okcOXIkf/Inf1Lz4QbLkiVLsmrVqqEeAwAAAPplwO/Mf/Sj\n",
              "H+09Ro4cmSVLlmTDhg0nYzYAAADgGN7378y/+uqr+Z//+Z9azAIAAAD0Q8NAv2DEiBGpq6tLkt47\n",
              "0D/yyCO1nQoAAAA4rgHH/EsvvfT/v7ihIaNHj3Y3eAAAABhEA4758ePH5//+7/96o37EiBE544wz\n",
              "aj0XAAAAcBwDjvkXXnghc+fOzejRo5Mkr7/+ejZu3JhZs2bVfDgAAADgaAOO+V/cvX7OnDlJ3on7\n",
              "P/qjP8q//du/1Xw4AAAA4GgDvpv9W2+91RvySTJ79uy8/fbbNR0KAAAAOL4Bx/yv/dqv5dlnn+19\n",
              "/Nxzz+WjH/1oTYcCAAAAjm/AH7P/8pe/nBtuuKH3DvY9PT156qmnaj4YAAAAcGwDjvkf/ehH2bZt\n",
              "W15//fUkybnnnputW7fWfDAAAADg2Ab8Mfvly5dn1KhRueCCC3LBBRdk5MiRWb58+cmYDQAAADiG\n",
              "Acf8r6qrq8uRI0dqMQsAAADQDwOO+TPPPDMvvPBC7+Nvf/vbOfPMM2s6FAAAAHB8A/6d+b/+67/O\n",
              "b/3Wb+XjH/94kmTnzp352te+VvPBAAAAgGMbcMzPmjUr//3f/50tW7YkeefvzA8fPrzWcwEAAADH\n",
              "MeCYT5IRI0bkqquuqvUsAAAAQD+87xvgAQAAAINLzAMAAEBhxDwAAAAURswDAABAYcQ8AAAAFEbM\n",
              "AwAAQGHEPAAAABRGzAMAAEBhxDwAAAAURswDAABAYcQ8AAAAFEbMAwAAQGHEPAAAABRGzAMAAEBh\n",
              "xDwAAAAURswDAABAYcQ8AAAAFEbMAwAAQGHEPAAAABRGzAMAAEBhxDwAAAAURswDAABAYcQ8AAAA\n",
              "FEbMAwAAQGHEPAAAABRGzAMAAEBhxDwAAAAURswDAABAYcQ8AAAAFEbMAwAAQGHEPAAAABRGzAMA\n",
              "AEBhxDwAAAAURswDAABAYcQ8AAAAFEbMAwAAQGHEPAAAABRGzAMAAEBhxDwAAAAURswDAABAYcQ8\n",
              "AAAAFEbMAwAAQGHEPAAAABRGzAMAAEBhxDwAAAAURswDAABAYcQ8AAAAFEbMAwAAQGHEPAAAABRG\n",
              "zAMAAEBhxDwAAAAURswDAABAYcQ8AAAAFEbMAwAAQGHEPAAAABRGzAMAAEBhxDwAAAAURswDAABA\n",
              "YcQ8AAAAFEbMAwAAQGHEPAAAABRGzAMAAEBhhjTme3p6cvvtt2fSpElpbm7O6tWrj7t2586dmT17\n",
              "dlpaWjJ9+vRs3749SfL222/n+uuvT0tLSy6++OJ85jOfSVtb22BdAgAAAAy6IY35devW5ZVXXsmO\n",
              "HTuydevW3H///b2R/qsWL16cRYsWZceOHVm6dGnmz5/fe27RokX5/ve/n+9+97u57rrrsmDBgkG6\n",
              "AgAAABh8QxrzTz75ZBYuXJj6+vqcffbZufHGG7N+/fqj1u3fvz/btm3LvHnzkiRz585NZ2dn2tra\n",
              "cvrpp+eqq65KXV1dkmTmzJlpb28/7mseOnQoXV1dfY4jR46clOsDAACAk2FIY76joyPjx4/vfTxh\n",
              "woR0dHQcta6zszNjxoxJQ0NDkqSuri5NTU3HXPvwww/nuuuuO+5rrly5MsOGDetzbN26tQZXAwAA\n",
              "AIPjpMb8rFmzMnLkyGMenZ2dNX+9e++9N21tbVm5cuVx1yxbtiwHDhzoc8yYMaPmswAAAMDJ0nAy\n",
              "v/mWLVtOeL6pqSl79uzJrFmzkiTt7e1pamo6at24ceOyd+/edHd3p6GhIVVVpaOjo8/aBx54IE89\n",
              "9VSeffbZnHHGGcd9zcbGxjQ2NvZ5rr6+fiCXBQAAAENqSD9m/9nPfjaPPfZYjhw5kjfeeCNPPvlk\n",
              "brzxxqPWnXPOOZk6dWrWrVuXJNm4cWPGjh2b5ubmJMmqVauyfv36PPPMMxk+fPhgXgIAAAAMupP6\n",
              "zvy7ufnmm/Piiy9m8uTJqaury5IlS3LhhRcmSTZt2pRNmzblb/7mb5Ikra2tmT9/fu69996cddZZ\n",
              "Wbt2bZLktddeyxe+8IVMnDgxl19+eZJ33n3/93//96G5KAAAADjJ6qqqqoZ6iKG2ZMmSrFq1aqjH\n",
              "AAAAgH4Z0o/ZAwAAAAMn5gEAAKAwYh4AAAAKI+YBAACgMGIeAAAACiPmAQAAoDBiHgAAAAoj5gEA\n",
              "AKAwYh4AAAAKI+YBAACgMGIeAAAACiPmAQAAoDBiHgAAAAoj5gEAAKAwYh4AAAAKI+YBAACgMGIe\n",
              "AAAACiPmAQAAoDBiHgAAAAoj5gEAAKAwYh4AAAAKI+YBAACgMGIeAAAACiPmAQAAoDBiHgAAAAoj\n",
              "5gEAAKAwYh4AAAAKI+YBAACgMGIeAAAACiPmAQAAoDBiHgAAAAoj5gEAAKAwYh4AAAAKI+YBAACg\n",
              "MGIeAAAACiPmAQAAoDBiHgAAAAoj5gEAAKAwYh4AAAAKI+YBAACgMGIeAAAACiPmAQAAoDBiHgAA\n",
              "AAoj5gEAAKAwYh4AAAAKI+YBAACgMGIeAAAACiPmAQAAoDBiHgAAAAoj5gEAAKAwYh4AAAAKI+YB\n",
              "AACgMGIeAAAACiPmAQAAoDBiHgAAAAoj5gEAAKAwYh4AAAAKI+YBAACgMGIeAAAACiPmAQAAoDBi\n",
              "HgAAAAoj5gEAAKAwYh4AAAAKI+YBAACgMGIeAAAACiPmAQAAoDBiHgAAAAoj5gEAAKAwYh4AAAAK\n",
              "I+YBAACgMGIeAAAACiPmAQAAoDBiHgAAAAoj5gEAAKAwYh4AAAAKI+YBAACgMGIeAAAACiPmAQAA\n",
              "oDBDGvM9PT25/fbbM2nSpDQ3N2f16tXHXbtz587Mnj07LS0tmT59erZv337UmrVr16auri5PP/30\n",
              "SZwaAAAAhtaQxvy6devyyiuvZMeOHdm6dWvuv//+Y0Z6kixevDiLFi3Kjh07snTp0syfP7/P+fb2\n",
              "9jz22GOZOXPmIEwOAAAAQ2dIY/7JJ5/MwoULU19fn7PPPjs33nhj1q9ff9S6/fv3Z9u2bZk3b16S\n",
              "ZO7cuens7ExbW1uSd97hX7BgQR555JE0Njae8DUPHTqUrq6uPseRI0dqf3EAAABwkgxpzHd0dGT8\n",
              "+PG9jydMmJCOjo6j1nV2dmbMmDFpaGhIktTV1aWpqal37apVqzJnzpxMmzbtXV9z5cqVGTZsWJ9j\n",
              "69atNboiAAAAOPlOaszPmjUrI0eOPObR2dlZk9d4+eWXs3Hjxtx99939Wr9s2bIcOHCgzzFjxoya\n",
              "zAIAAACDoeFkfvMtW7ac8HxTU1P27NmTWbNmJXnn996bmpqOWjdu3Ljs3bs33d3daWhoSFVV6ejo\n",
              "SFNTU5555pm0t7dn8uTJSZJ9+/Zl0aJF2bt3b2677bajvldjY+NRH8Wvr69/r5cIAAAAg25IP2b/\n",
              "2c9+No899liOHDmSN954I08++WRuvPHGo9adc845mTp1atatW5ck2bhxY8aOHZvm5ubcdttt2bt3\n",
              "b9rb29Pe3p6ZM2dmzZo1xwx5AAAAOBUMaczffPPN+fjHP57Jkydn+vTpWbJkSS688MIkyaZNm7Jg\n",
              "wYLeta2trWltbU1LS0vuu+++rF27dqjGBgAAgCFVV1VVNdRDDLUlS5Zk1apVQz0GAAAA9MuQvjMP\n",
              "AAAADJyYBwAAgMKIeQAAACiMmAcAAIDCiHkAAAAojJgHAACAwoh5AAAAKIyYBwAAgMKIeQAAACiM\n",
              "mAcAAIDCiHkAAAAojJgHAACAwoh5AAAAKIyYBwAAgMKIeQAAACiMmAcAAIDCiHkAAAAojJgHAACA\n",
              "woh5AAAAKIyYBwAAgMKIeQAAACiMmAcAAIDCiHkAAAAojJgHAACAwoh5AAAAKIyYBwAAgMKIeQAA\n",
              "ACiMmAcAAIDCiHkAAAAojJgHAACAwoh5AAAAKIyYBwAAgMKIeQAAACiMmAcAAIDCiHkAAAAojJgH\n",
              "AACAwoh5AAAAKIyYBwAAgMKIeQAAACiMmAcAAIDCiHkAAAAojJgHAACAwoh5AAAAKIyYBwAAgMKI\n",
              "eQAAACiMmAcAAIDCiHkAAAAojJgHAACAwoh5AAAAKIyYBwAAgMKIeQAAACiMmAcAAIDCiHkAAAAo\n",
              "jJgHAACAwoh5AAAAKIyYBwAAgMKIeQAAACiMmAcAAIDCiHkAAAAojJgHAACAwtRVVVUN9RBD7YYb\n",
              "bsiECROGegyGwJEjR7J169bMmDEj9fX1Qz0OHJN9SgnsU0phr1IC+5Tx48fnjjvuOOEaMc+HWldX\n",
              "V4YNG5YDBw7krLPOGupx4JjsU0pgn1IKe5US2Kf0h4/ZAwAAQGHEPAAAABRGzAMAAEBhxDwfao2N\n",
              "jfnzP//zNDY2DvUocFz2KSWwTymFvUoJ7FP6ww3wAAAAoDDemQcAAIDCiHkAAAAojJgHAACAwoh5\n",
              "Tnk9PT25/fbbM2nSpDQ3N2f16tXHXbtz587Mnj07LS0tmT59erZv337UmrVr16auri5PP/30SZya\n",
              "D5ta7NO33347119/fVpaWnLxxRfnM5/5TNra2gbrEjiF9ednY5I8/vjjmTx5ciZNmpSFCxfm8OHD\n",
              "/ToHtfB+9+k3v/nNzJgxI5/85Cdz/vnn584770xPT89gXgIfArX4eZokVVXliiuuyPDhwwdhaj6w\n",
              "KjjFffWrX62uuOKKqru7u/rJT35SNTU1VS+//PIx115++eXV2rVrq6qqqn/4h3+oLr300j7nd+/e\n",
              "Xc2aNauaOXNm9bWvfe0kT86HSS326VtvvVV94xvfqHp6eqqqqqpHHnmkuuyyywZjfE5x7/azsaqq\n",
              "6gc/+EE1ZsyYau/evVVPT091zTXXVKtXr37Xc1Ar73ef/ud//me1a9euqqre+Xk6Z86c3u8HtfJ+\n",
              "9+kvPPjgg9WCBQuqYcOGDcLUfFB5Z55T3pNPPpmFCxemvr4+Z599dm688casX7/+qHX79+/Ptm3b\n",
              "Mm/evCTJ3Llz09nZ2fvOZk9PTxYsWJBHHnnEnwmh5mqxT08//fRcddVVqaurS5LMnDkz7e3tg3kZ\n",
              "nILe7WfjL2zYsCHXXnttRo8enbq6utx66629e/hE56AWarFPL7nkkkycODFJcvrpp2fKlCl+hlJT\n",
              "tdinSbJ9+/Y8/fTTueuuuwZ1fj54xDynvI6OjowfP7738YQJE9LR0XHUus7OzowZMyYNDQ1Jkrq6\n",
              "ujQ1NfWuXbVqVebMmZNp06YNzuB8qNRqn/6yhx9+ONddd93JG5oPhf7uuRPt4f7ub3ivarFPf9m+\n",
              "ffuyYcOGXH311Sd3cD5UarFPDx8+nIULF6a1tTX19fWDNzwfSA1DPQC8X7NmzcrOnTuPee473/lO\n",
              "TV7j5ZdfzsaNG/Ov//qvNfl+fPgMxj79Zffee2/a2try3HPP1fx7A5zKurq6cs011+TOO+/MpZde\n",
              "OtTjQB8rVqzIDTfckE984hM+OYKYp3xbtmw54fmmpqbs2bMns2bNSpK0t7enqanpqHXjxo3L3r17\n",
              "093dnYaGhlRVlY6OjjQ1NeWZZ55Je3t7Jk+enOSd/8d+0aJF2bt3b2677bbaXxSnnMHYp7/wwAMP\n",
              "5Kmnnsqzzz6bM844o7YXwodOf/Zc8s4e3rVrV+/jX97DJzoHtVCLfZokBw8ezJVXXpnrrrsuS5Ys\n",
              "GbT5+XCoxT59/vnn09HRkdWrV6e7uztdXV2ZMGFCXnzxxYwaNWpQr4cPgCH9jX0YBGvXrj3qxmLf\n",
              "+973jrn2sssu63NTkmnTph13nRvgUUu12qcPPvhgNXXq1OqNN94YjLH5kOjPz8Zdu3YddcOmRx55\n",
              "5F3PQa2833168ODBavbs2dWKFSsGc2w+ZN7vPv1lu3fvdgO8Dzkxzymvu7u7+oM/+IPqYx/7WDVx\n",
              "4sTqoYce6j339a9/vbrlllt6H7/66qvVzJkzq8mTJ1fTpk07YUyJeWqpFvu0s7OzSlJNnDixuvji\n",
              "i6uLL764mjFjxqBfC6ee4+25W265pfr617/eu27NmjXVxIkTq4kTJ1af//znq5///Of9Oge18H73\n",
              "6T333FM1NDT0/vy8+OKLq3vuuWdIroVTVy1+nv6CmKeuqqpqqD8dAAAAAPSfu9kDAABAYcQ8AAAA\n",
              "FEbMAwAAQGHEPADQx5QpU3Lw4MEBf91v//Zv52//9m9rPxAAcBR/Zx4A6OOll14a6hEAgHfhnXkA\n",
              "oI+6urq8+eabSZIJEybkz/7szzJr1qx87GMfyz333NO77tVXX83s2bNz/vnn5/rrr09XV1fvuYMH\n",
              "D2bhwoWZMWNGLrrooixatCg///nP8/3vfz9jx47ND37wgyTJAw88kCuvvDI9PT2Deo0AUDoxDwCc\n",
              "0JtvvpktW7bkxRdfzP33358f/vCHSZKbb745t9xyS7Zv354vfvGLef7553u/5gtf+EJ+/dd/PVu3\n",
              "bs13v/vd9PT05OGHH855552X+++/P5/73OfyL//yL/nKV76Sv/u7v8tpp/lPEgAYCB+zBwBO6Hd/\n",
              "93eTJCNHjszEiROze/funHnmmXnppZcyf/78JMmFF16YT33qU71f8/TTT2fLli1ZtWpVkuStt95K\n",
              "fX19kuR3fud38s///M/5zd/8zTz33HMZNWrU4F4QAJwCxDwAcEKnn35677/r6+vT3d19zHV1dXW9\n",
              "/66qKhs3bkxLS8tR67q7u/Pyyy/n7LPP7n2XHwAYGJ9pAwAG7Kyzzsoll1ySJ554Ikmyffv2fOtb\n",
              "3+o9f/311+ev/uqvesP/pz/9adra2pIkd911V84777xs3rw5f/zHf9z7PADQf2IeAHhPnnjiiaxZ\n",
              "syYXXHBB7r777vzGb/xG77kvfelL+chHPpIpU6bkoosuyqc//em0t7fnH//xH/NP//RP+cpXvpLm\n",
              "5uasWrUqn/vc5/L2228P4ZUAQHnqqqqqhnoIAAAAoP+8Mw8AAACFEfMAAABQGDEPAAAAhRHzAAAA\n",
              "UBgxDwAAAIUR8wAAAFAYMQ8AAACFEfMAAABQGDEPAAAAhRHzAAAAUJj/B1WdTR1jE+1WAAAAAElF\n",
              "TkSuQmCC\n",
              "\">\n",
              "      </div>\n",
              "      <script type=\"text/javascript\">\n",
              "        (() => {\n",
              "          const chartElement = document.getElementById(\"chart-ba78a381-ba9d-4750-9473-0a1a6232f082\");\n",
              "          async function getCodeForChartHandler(event) {\n",
              "            const chartCodeResponse =  await google.colab.kernel.invokeFunction(\n",
              "                'getCodeForChart', [\"chart-ba78a381-ba9d-4750-9473-0a1a6232f082\"], {});\n",
              "            const responseJson = chartCodeResponse.data['application/json'];\n",
              "            await google.colab.notebook.addCell(responseJson.code, 'code');\n",
              "          }\n",
              "          chartElement.onclick = getCodeForChartHandler;\n",
              "        })();\n",
              "      </script>\n",
              "      <style>\n",
              "        .colab-quickchart-chart-with-code  {\n",
              "            display: block;\n",
              "            float: left;\n",
              "            border: 1px solid transparent;\n",
              "        }\n",
              "\n",
              "        .colab-quickchart-chart-with-code:hover {\n",
              "            cursor: pointer;\n",
              "            border: 1px solid #aaa;\n",
              "        }\n",
              "      </style>"
            ]
          },
          "metadata": {}
        }
      ]
    },
    {
      "cell_type": "code",
      "source": [
        "# Save to CSV for downstream use\n",
        "df_scrape.to_csv(\"spacex_launch_site_scrape.csv\", index=False)\n",
        "print(\"Saved spacex_launch_site_scrape.csv\")"
      ],
      "metadata": {
        "colab": {
          "base_uri": "https://localhost:8080/"
        },
        "id": "bR49i9T1bVAY",
        "outputId": "496cad2f-1d0f-49b6-cf19-124d1747a884"
      },
      "execution_count": 28,
      "outputs": [
        {
          "output_type": "stream",
          "name": "stdout",
          "text": [
            "Saved spacex_launch_site_scrape.csv\n"
          ]
        }
      ]
    }
  ]
}